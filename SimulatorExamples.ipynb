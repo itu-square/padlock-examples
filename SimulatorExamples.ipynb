{
 "cells": [
  {
   "cell_type": "markdown",
   "metadata": {},
   "source": [
    "# Simulator Examples\n",
    "\n",
    "In this notebook we try to use the MDP simulator of PGCL programs and develop a notion of programs as transformers of state distributions. From this we can hopefully derive some notion of expectation.  We begin with loading the padlock jar:"
   ]
  },
  {
   "cell_type": "code",
   "execution_count": 9,
   "metadata": {},
   "outputs": [],
   "source": [
    "interp.load.cp (os.pwd/\"padlock-0.0.jar\")"
   ]
  },
  {
   "cell_type": "markdown",
   "metadata": {},
   "source": [
    "The `pgcl` package contains the abstract syntax types for PGCL.  The `pgcl.syntax` package contains extension methods that allow to create the abstract syntax of PGCL models in a stylized internal DSL. Not very pretty, but easier to handle than the AST directly.  The `mdp` package contains the implementation of the MDP semantics (a small-step continuation passing style reducer for programs and a small-step continuation passing style evaluator for expressions), the types of runtime values, and the types of schedulers able to resolve both probabilistic and demonic choices."
   ]
  },
  {
   "cell_type": "code",
   "execution_count": 10,
   "metadata": {},
   "outputs": [
    {
     "data": {
      "text/plain": [
       "\u001b[32mimport \u001b[39m\u001b[36mpadlock.pgcl._\n",
       "\u001b[39m\n",
       "\u001b[32mimport \u001b[39m\u001b[36mpadlock.pgcl.syntax._\n",
       "\u001b[39m\n",
       "\u001b[32mimport \u001b[39m\u001b[36mpadlock.mdp._\u001b[39m"
      ]
     },
     "execution_count": 10,
     "metadata": {},
     "output_type": "execute_result"
    }
   ],
   "source": [
    "import padlock.pgcl._\n",
    "import padlock.pgcl.syntax._\n",
    "import padlock.mdp._"
   ]
  },
  {
   "cell_type": "markdown",
   "metadata": {},
   "source": [
    "We create several examples to have something to experiment with:"
   ]
  },
  {
   "cell_type": "code",
   "execution_count": 12,
   "metadata": {
    "scrolled": true
   },
   "outputs": [
    {
     "data": {
      "text/plain": [
       "\u001b[36mcoin\u001b[39m: \u001b[32mString\u001b[39m = \u001b[32m\"coin\"\u001b[39m\n",
       "\u001b[36mhead\u001b[39m: \u001b[32mTrue\u001b[39m.type = True\n",
       "\u001b[36mtail\u001b[39m: \u001b[32mFalse\u001b[39m.type = False\n",
       "\u001b[36mexample0\u001b[39m: \u001b[32mAssgn\u001b[39m = \u001b[33mAssgn\u001b[39m(\u001b[32m\"coin\"\u001b[39m, \u001b[33mValExpr\u001b[39m(True))\n",
       "\u001b[36mexample1\u001b[39m: \u001b[32mAssgn\u001b[39m = \u001b[33mAssgn\u001b[39m(\u001b[32m\"coin\"\u001b[39m, \u001b[33mValExpr\u001b[39m(False))\n",
       "\u001b[36mexample2\u001b[39m: \u001b[32mProbabilistic\u001b[39m = \u001b[33mProbabilistic\u001b[39m(\n",
       "  \u001b[33mAssgn\u001b[39m(\u001b[32m\"coin\"\u001b[39m, \u001b[33mValExpr\u001b[39m(True)),\n",
       "  \u001b[33mValExpr\u001b[39m(\u001b[33mValP\u001b[39m(\u001b[32m0.5\u001b[39m)),\n",
       "  \u001b[33mAssgn\u001b[39m(\u001b[32m\"coin\"\u001b[39m, \u001b[33mValExpr\u001b[39m(False))\n",
       ")\n",
       "\u001b[36mexample3\u001b[39m: \u001b[32mSeq\u001b[39m = \u001b[33mSeq\u001b[39m(\n",
       "  \u001b[33mAssgn\u001b[39m(\u001b[32m\"coin\"\u001b[39m, \u001b[33mValExpr\u001b[39m(False)),\n",
       "  \u001b[33mProbabilistic\u001b[39m(\n",
       "    \u001b[33mAssgn\u001b[39m(\u001b[32m\"coin\"\u001b[39m, \u001b[33mValExpr\u001b[39m(True)),\n",
       "    \u001b[33mValExpr\u001b[39m(\u001b[33mValP\u001b[39m(\u001b[32m0.5\u001b[39m)),\n",
       "    \u001b[33mAssgn\u001b[39m(\u001b[32m\"coin\"\u001b[39m, \u001b[33mValExpr\u001b[39m(False))\n",
       "  )\n",
       ")\n",
       "\u001b[36mexample4\u001b[39m: \u001b[32mSeq\u001b[39m = \u001b[33mSeq\u001b[39m(\n",
       "  \u001b[33mProbabilistic\u001b[39m(\n",
       "    \u001b[33mAssgn\u001b[39m(\u001b[32m\"coin\"\u001b[39m, \u001b[33mValExpr\u001b[39m(True)),\n",
       "    \u001b[33mValExpr\u001b[39m(\u001b[33mValP\u001b[39m(\u001b[32m0.5\u001b[39m)),\n",
       "    \u001b[33mAssgn\u001b[39m(\u001b[32m\"coin\"\u001b[39m, \u001b[33mValExpr\u001b[39m(False))\n",
       "  ),\n",
       "  \u001b[33mAssgn\u001b[39m(\u001b[32m\"coin\"\u001b[39m, \u001b[33mValExpr\u001b[39m(True))\n",
       ")"
      ]
     },
     "execution_count": 12,
     "metadata": {},
     "output_type": "execute_result"
    }
   ],
   "source": [
    "val coin = \"coin\"\n",
    "val head = True\n",
    "val tail = False\n",
    "\n",
    "val example0 = coin := head\n",
    "\n",
    "val example1 = coin := tail\n",
    "\n",
    "val example2 = (example0) < 0.5 > (example1)\n",
    "\n",
    "val example3 = (\n",
    "    (coin := tail)\n",
    "    ((coin := head) < 0.5 > (coin := tail))\n",
    ")\n",
    "\n",
    "val example4 = (\n",
    "    ((coin := head) < 0.5 > (coin := tail))\n",
    "    (coin := head)\n",
    ")"
   ]
  },
  {
   "cell_type": "markdown",
   "metadata": {},
   "source": [
    "We can run an example with a default scheduler initialized with a constant seed.   The `MDP` object encapsulates the simulator.  The `run1` method reduces the provided program until it terminates or aborts (or otherwise the simulator fails, possibly due to bugs).  The method takes up to three arguments, but we are using the simples non-probabilistic version.  Each run will give you the same arbitrary outcome! It is called `run1` because it does not produce a sample set of runs, but only a single result."
   ]
  },
  {
   "cell_type": "code",
   "execution_count": 13,
   "metadata": {},
   "outputs": [
    {
     "data": {
      "text/plain": [
       "\u001b[36mres12\u001b[39m: \u001b[32mEither\u001b[39m[\u001b[32mString\u001b[39m, \u001b[32mEnv\u001b[39m] = \u001b[33mRight\u001b[39m(\u001b[33mMap\u001b[39m(\u001b[32m\"coin\"\u001b[39m -> \u001b[33mRuntimeValB\u001b[39m(false)))"
      ]
     },
     "execution_count": 13,
     "metadata": {},
     "output_type": "execute_result"
    }
   ],
   "source": [
    "MDP.run1 (example2)"
   ]
  },
  {
   "cell_type": "markdown",
   "metadata": {},
   "source": [
    "The `SimpleScheduler` companion object defines several fixed schedulers that we can use to change the behaviour of `run1`. Below I instantiate a scheduler that always chooses a left branch in a non-deterministic choice.  The seed 42 is used to initialize the pseudo random number generator state of the probabilistic part of the scheduler.  The second scheduler (`fairCoin`) will be a scheduler that randomly (with probability 0.5) will resolve every demonic choice.  It is initialized with the same seed. "
   ]
  },
  {
   "cell_type": "code",
   "execution_count": 14,
   "metadata": {},
   "outputs": [
    {
     "data": {
      "text/plain": [
       "\u001b[36malwaysLeft\u001b[39m: \u001b[32mSimpleScheduler\u001b[39m[\u001b[32mEnv\u001b[39m] = padlock.mdp.SimpleScheduler@64a159a2\n",
       "\u001b[36mfairCoin\u001b[39m: \u001b[32mSimpleScheduler\u001b[39m[\u001b[32mEnv\u001b[39m] = padlock.mdp.SimpleScheduler$$anon$1@74cce441"
      ]
     },
     "execution_count": 14,
     "metadata": {},
     "output_type": "execute_result"
    }
   ],
   "source": [
    "val alwaysLeft = SimpleScheduler.AlwaysLeftScheduler[Env] (42)\n",
    "val fairCoin = SimpleScheduler.FairCoinScheduler[Env] (42)"
   ]
  },
  {
   "cell_type": "markdown",
   "metadata": {},
   "source": [
    "Now we can use one of the schedulers to run our example.  For `example0` and `example1` all schedulers should behave the same as there are no probabilistic nor demonic choices involved.  For so simple examples, it is thus better to only use one argument to the function `run1`, which assumes some default scheduler. For `example2` the choice of the scheduler does not make any difference either, because all padlock schedulers (so far) behave exactly the same for probabilistic choices.  They differ only on demonic choices. But for an example with a probabilistic choice (`example2`) the choice of the initial seed does make a difference."
   ]
  },
  {
   "cell_type": "code",
   "execution_count": 15,
   "metadata": {},
   "outputs": [
    {
     "data": {
      "text/plain": [
       "\u001b[36mres14_0\u001b[39m: \u001b[32mEither\u001b[39m[\u001b[32mString\u001b[39m, \u001b[32mEnv\u001b[39m] = \u001b[33mRight\u001b[39m(\u001b[33mMap\u001b[39m(\u001b[32m\"coin\"\u001b[39m -> \u001b[33mRuntimeValB\u001b[39m(true)))\n",
       "\u001b[36mres14_1\u001b[39m: \u001b[32mEither\u001b[39m[\u001b[32mString\u001b[39m, \u001b[32mEnv\u001b[39m] = \u001b[33mRight\u001b[39m(\u001b[33mMap\u001b[39m(\u001b[32m\"coin\"\u001b[39m -> \u001b[33mRuntimeValB\u001b[39m(true)))"
      ]
     },
     "execution_count": 15,
     "metadata": {},
     "output_type": "execute_result"
    }
   ],
   "source": [
    "MDP.run1 (example0, alwaysLeft)\n",
    "MDP.run1 (example0)"
   ]
  },
  {
   "cell_type": "code",
   "execution_count": 19,
   "metadata": {},
   "outputs": [
    {
     "data": {
      "text/plain": [
       "\u001b[36mres18_0\u001b[39m: \u001b[32mEither\u001b[39m[\u001b[32mString\u001b[39m, \u001b[32mEnv\u001b[39m] = \u001b[33mRight\u001b[39m(\u001b[33mMap\u001b[39m(\u001b[32m\"coin\"\u001b[39m -> \u001b[33mRuntimeValB\u001b[39m(false)))\n",
       "\u001b[36mres18_1\u001b[39m: \u001b[32mEither\u001b[39m[\u001b[32mString\u001b[39m, \u001b[32mEnv\u001b[39m] = \u001b[33mRight\u001b[39m(\u001b[33mMap\u001b[39m(\u001b[32m\"coin\"\u001b[39m -> \u001b[33mRuntimeValB\u001b[39m(false)))"
      ]
     },
     "execution_count": 19,
     "metadata": {},
     "output_type": "execute_result"
    }
   ],
   "source": [
    "MDP.run1 (example1, alwaysLeft)\n",
    "MDP.run1 (example1, fairCoin)"
   ]
  },
  {
   "cell_type": "code",
   "execution_count": 24,
   "metadata": {},
   "outputs": [
    {
     "data": {
      "text/plain": [
       "\u001b[36mres23_0\u001b[39m: \u001b[32mEither\u001b[39m[\u001b[32mString\u001b[39m, \u001b[32mEnv\u001b[39m] = \u001b[33mRight\u001b[39m(\u001b[33mMap\u001b[39m(\u001b[32m\"coin\"\u001b[39m -> \u001b[33mRuntimeValB\u001b[39m(false)))\n",
       "\u001b[36mres23_1\u001b[39m: \u001b[32mEither\u001b[39m[\u001b[32mString\u001b[39m, \u001b[32mEnv\u001b[39m] = \u001b[33mRight\u001b[39m(\u001b[33mMap\u001b[39m(\u001b[32m\"coin\"\u001b[39m -> \u001b[33mRuntimeValB\u001b[39m(false)))"
      ]
     },
     "execution_count": 24,
     "metadata": {},
     "output_type": "execute_result"
    }
   ],
   "source": [
    "MDP.run1 (example2, alwaysLeft)\n",
    "MDP.run1 (example2, SimpleScheduler.AlwaysLeftScheduler[Env] (1))"
   ]
  },
  {
   "cell_type": "code",
   "execution_count": 8,
   "metadata": {},
   "outputs": [
    {
     "data": {
      "text/plain": [
       "\u001b[36mres7\u001b[39m: \u001b[32mEither\u001b[39m[\u001b[32mString\u001b[39m, \u001b[32mEnv\u001b[39m] = \u001b[33mRight\u001b[39m(\u001b[33mMap\u001b[39m(\u001b[32m\"coin\"\u001b[39m -> \u001b[33mRuntimeValB\u001b[39m(false)))"
      ]
     },
     "execution_count": 8,
     "metadata": {},
     "output_type": "execute_result"
    }
   ],
   "source": [
    "MDP.run1 (example3, alwaysLeft)"
   ]
  },
  {
   "cell_type": "code",
   "execution_count": 12,
   "metadata": {},
   "outputs": [
    {
     "data": {
      "text/plain": [
       "\u001b[36mres11\u001b[39m: \u001b[32mEither\u001b[39m[\u001b[32mString\u001b[39m, \u001b[32mEnv\u001b[39m] = \u001b[33mRight\u001b[39m(\u001b[33mMap\u001b[39m(\u001b[32m\"coin\"\u001b[39m -> \u001b[33mRuntimeValB\u001b[39m(true)))"
      ]
     },
     "execution_count": 12,
     "metadata": {},
     "output_type": "execute_result"
    }
   ],
   "source": [
    "MDP.run1 (example4, alwaysLeft)"
   ]
  },
  {
   "cell_type": "markdown",
   "metadata": {},
   "source": [
    "What is an expectation?\n",
    "\n",
    "If we have a prior probability distribution $\\pi$ on the variable _coin_ then we would like to know what is the probability on the distribution after. So we want to compute something like:\n",
    "\n",
    "sample env $\\in \\pi$; collect the values of MDP.run1 (example4, faircoin, env)\n",
    "\n",
    "Then plot the histogram of the values obtained.  But this is still not using Bayesian inference. \n",
    "\n",
    "With Figaro I would've been able to represent \\pi and map the reducer to obtain the final value.  \n",
    "\n",
    "TODO:\n",
    "* Figure out how to infer distributions (We need to start revisiting the various distribution frameworks)\n",
    "* Figure out how to plot distributions\n",
    "* Mark expectations for the distributions\n",
    "* For this to work in proofs we must be able to perform bayesian decision making on small pieces of programs, possibly automatically  (is ROPE overlapping with HDI)? This I might choose to work on much later."
   ]
  },
  {
   "cell_type": "markdown",
   "metadata": {},
   "source": [
    "## Defining Schedulers"
   ]
  },
  {
   "cell_type": "code",
   "execution_count": null,
   "metadata": {},
   "outputs": [],
   "source": [
    "TODO: Show different ways of defining schedulers."
   ]
  }
 ],
 "metadata": {
  "kernelspec": {
   "display_name": "Scala",
   "language": "scala",
   "name": "scala"
  },
  "language_info": {
   "codemirror_mode": "text/x-scala",
   "file_extension": ".sc",
   "mimetype": "text/x-scala",
   "name": "scala",
   "nbconvert_exporter": "script",
   "version": "2.13.3"
  }
 },
 "nbformat": 4,
 "nbformat_minor": 4
}
