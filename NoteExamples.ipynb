{
 "cells": [
  {
   "cell_type": "markdown",
   "metadata": {},
   "source": [
    "# Examples from the Note"
   ]
  },
  {
   "cell_type": "code",
   "execution_count": 1,
   "metadata": {},
   "outputs": [],
   "source": [
    "interp.load.cp (os.pwd/\"padlock-0.0.jar\")"
   ]
  },
  {
   "cell_type": "code",
   "execution_count": 2,
   "metadata": {},
   "outputs": [
    {
     "data": {
      "text/plain": [
       "\u001b[32mimport \u001b[39m\u001b[36mpadlock.pgcl._\n",
       "\u001b[39m\n",
       "\u001b[32mimport \u001b[39m\u001b[36mpadlock.pgcl.syntax._\u001b[39m"
      ]
     },
     "execution_count": 2,
     "metadata": {},
     "output_type": "execute_result"
    }
   ],
   "source": [
    "import padlock.pgcl._\n",
    "import padlock.pgcl.syntax._"
   ]
  },
  {
   "cell_type": "markdown",
   "metadata": {},
   "source": [
    "## Example 1\n",
    "We want to represent the following program\n",
    "```\n",
    "coin = head [1/2] coin = tail\n",
    "```\n",
    "using the abstract syntax provided by padlock (this entire example does not rely on a parser for PGCL).  We begin by introducing helper names for new constants `head` and `tail` and for the PGCL variable `coin`."
   ]
  },
  {
   "cell_type": "code",
   "execution_count": 3,
   "metadata": {},
   "outputs": [
    {
     "data": {
      "text/plain": [
       "\u001b[36mhead\u001b[39m: \u001b[32mTrue\u001b[39m.type = True\n",
       "\u001b[36mtail\u001b[39m: \u001b[32mFalse\u001b[39m.type = False\n",
       "\u001b[36mcoin\u001b[39m: \u001b[32mString\u001b[39m = \u001b[32m\"coin\"\u001b[39m"
      ]
     },
     "execution_count": 3,
     "metadata": {},
     "output_type": "execute_result"
    }
   ],
   "source": [
    "val head = True\n",
    "val tail = False\n",
    "val coin = \"coin\""
   ]
  },
  {
   "cell_type": "code",
   "execution_count": 4,
   "metadata": {},
   "outputs": [
    {
     "data": {
      "text/plain": [
       "\u001b[36mexample1\u001b[39m: \u001b[32mProbabilistic\u001b[39m = \u001b[33mProbabilistic\u001b[39m(\n",
       "  \u001b[33mAssgn\u001b[39m(\u001b[32m\"coin\"\u001b[39m, \u001b[33mValExpr\u001b[39m(True)),\n",
       "  \u001b[33mValExpr\u001b[39m(\u001b[33mValP\u001b[39m(\u001b[32m0.1\u001b[39m)),\n",
       "  \u001b[33mAssgn\u001b[39m(\u001b[32m\"coin\"\u001b[39m, \u001b[33mValExpr\u001b[39m(False))\n",
       ")"
      ]
     },
     "execution_count": 4,
     "metadata": {},
     "output_type": "execute_result"
    }
   ],
   "source": [
    "val example1 = (coin := head) < 0.1 > (coin := tail)"
   ]
  },
  {
   "cell_type": "markdown",
   "metadata": {},
   "source": [
    "Notice how the program syntax has been converted into the abstract syntax representation (a term).\n",
    "\n",
    "## Example 2"
   ]
  },
  {
   "cell_type": "code",
   "execution_count": 16,
   "metadata": {},
   "outputs": [
    {
     "data": {
      "text/plain": [
       "\u001b[36mexample2\u001b[39m: \u001b[32mSeq\u001b[39m = \u001b[33mSeq\u001b[39m(\n",
       "  \u001b[33mProbabilistic\u001b[39m(\n",
       "    \u001b[33mAssgn\u001b[39m(\u001b[32m\"coin\"\u001b[39m, \u001b[33mValExpr\u001b[39m(True)),\n",
       "    \u001b[33mValExpr\u001b[39m(\u001b[33mValP\u001b[39m(\u001b[32m0.5\u001b[39m)),\n",
       "    \u001b[33mAssgn\u001b[39m(\u001b[32m\"coin\"\u001b[39m, \u001b[33mValExpr\u001b[39m(False))\n",
       "  ),\n",
       "  \u001b[33mAssgn\u001b[39m(\u001b[32m\"coin\"\u001b[39m, \u001b[33mValExpr\u001b[39m(True))\n",
       ")"
      ]
     },
     "execution_count": 16,
     "metadata": {},
     "output_type": "execute_result"
    }
   ],
   "source": [
    "val example2 = (\n",
    "    ((coin := head) <0.5> (coin := tail))\n",
    "    (coin := head)\n",
    ")"
   ]
  },
  {
   "cell_type": "markdown",
   "metadata": {},
   "source": [
    "## Example 3 (Monty Hall)\n",
    "\n",
    "This is an attempt to write the original example from the note as a straight line program:\n",
    "\n",
    "```\n",
    "prize = A u (prize = B u prize = C);\n",
    "contestant = A 1/3 ⊕ (contestant = B 1/2 ⊕ contestant = C)\n",
    "\n",
    "if (contestant == prize) \n",
    "  ultimate = contestant\n",
    "else \n",
    "\n",
    "if (prize == A && contestant == B || prize == B && contestant == A )\n",
    "  open = C\n",
    "else if (prize == B && contestant == C || prize == C && contestant == B )\n",
    "  open = A\n",
    "else if (prize == A && contestant == C || prize == C && contestant == A )\n",
    "  open = B\n",
    "  \n",
    "if (clever) {\n",
    "  if (open == A && contestant == B || open == B && contestant == A )\n",
    "    ultimate = C\n",
    "  else if (open == B && contestant == C || open == C && contestant == B )\n",
    "    ultimate = A\n",
    "  else if (open == A && contestant == C || open == C && contestant == A )\n",
    "    ultimate = B\n",
    "} else final = contestant\n",
    "```\n",
    "\n",
    "The main difference is that we also finalize the game if the contestant is lucky to begin with, and that we store the final move in the variable `ultimate`. We also made all the computations direct (not involving solving logical constraints). "
   ]
  },
  {
   "cell_type": "code",
   "execution_count": 6,
   "metadata": {},
   "outputs": [
    {
     "data": {
      "text/plain": [
       "\u001b[36mprize\u001b[39m: \u001b[32mString\u001b[39m = \u001b[32m\"prize\"\u001b[39m\n",
       "\u001b[36mA\u001b[39m: \u001b[32mInt\u001b[39m = \u001b[32m1\u001b[39m\n",
       "\u001b[36mB\u001b[39m: \u001b[32mInt\u001b[39m = \u001b[32m2\u001b[39m\n",
       "\u001b[36mC\u001b[39m: \u001b[32mInt\u001b[39m = \u001b[32m3\u001b[39m\n",
       "\u001b[36mcontestant\u001b[39m: \u001b[32mString\u001b[39m = \u001b[32m\"contestant\"\u001b[39m\n",
       "\u001b[36mopen\u001b[39m: \u001b[32mString\u001b[39m = \u001b[32m\"open\"\u001b[39m\n",
       "\u001b[36mclever\u001b[39m: \u001b[32mString\u001b[39m = \u001b[32m\"clever\"\u001b[39m\n",
       "\u001b[36multimate\u001b[39m: \u001b[32mString\u001b[39m = \u001b[32m\"ultimate\"\u001b[39m"
      ]
     },
     "execution_count": 6,
     "metadata": {},
     "output_type": "execute_result"
    }
   ],
   "source": [
    "val prize = \"prize\"\n",
    "val A = 1\n",
    "val B = 2\n",
    "val C = 3\n",
    "\n",
    "val contestant = \"contestant\"\n",
    "val open = \"open\"\n",
    "val clever = \"clever\"\n",
    "val ultimate = \"ultimate\""
   ]
  },
  {
   "cell_type": "code",
   "execution_count": 17,
   "metadata": {},
   "outputs": [
    {
     "data": {
      "text/plain": [
       "\u001b[36mexample3\u001b[39m: \u001b[32mSeq\u001b[39m = \u001b[33mSeq\u001b[39m(\n",
       "  \u001b[33mSeq\u001b[39m(\n",
       "    \u001b[33mDemonic\u001b[39m(\n",
       "      \u001b[33mDemonic\u001b[39m(\n",
       "        \u001b[33mAssgn\u001b[39m(\u001b[32m\"prize\"\u001b[39m, \u001b[33mValExpr\u001b[39m(\u001b[33mValI\u001b[39m(\u001b[32m1\u001b[39m))),\n",
       "        \u001b[33mAssgn\u001b[39m(\u001b[32m\"prize\"\u001b[39m, \u001b[33mValExpr\u001b[39m(\u001b[33mValI\u001b[39m(\u001b[32m2\u001b[39m)))\n",
       "      ),\n",
       "      \u001b[33mAssgn\u001b[39m(\u001b[32m\"prize\"\u001b[39m, \u001b[33mValExpr\u001b[39m(\u001b[33mValI\u001b[39m(\u001b[32m3\u001b[39m)))\n",
       "    ),\n",
       "    \u001b[33mProbabilistic\u001b[39m(\n",
       "      \u001b[33mAssgn\u001b[39m(\u001b[32m\"contestant\"\u001b[39m, \u001b[33mValExpr\u001b[39m(\u001b[33mValI\u001b[39m(\u001b[32m1\u001b[39m))),\n",
       "      \u001b[33mValExpr\u001b[39m(\u001b[33mValP\u001b[39m(\u001b[32m0.33\u001b[39m)),\n",
       "      \u001b[33mProbabilistic\u001b[39m(\n",
       "        \u001b[33mAssgn\u001b[39m(\u001b[32m\"contestant\"\u001b[39m, \u001b[33mValExpr\u001b[39m(\u001b[33mValI\u001b[39m(\u001b[32m2\u001b[39m))),\n",
       "        \u001b[33mValExpr\u001b[39m(\u001b[33mValP\u001b[39m(\u001b[32m0.5\u001b[39m)),\n",
       "        \u001b[33mAssgn\u001b[39m(\u001b[32m\"contestant\"\u001b[39m, \u001b[33mValExpr\u001b[39m(\u001b[33mValI\u001b[39m(\u001b[32m3\u001b[39m)))\n",
       "      )\n",
       "    )\n",
       "  ),\n",
       "  \u001b[33mIf\u001b[39m(\n",
       "    \u001b[33mBExpr\u001b[39m(\u001b[33mVarExpr\u001b[39m(\u001b[32m\"contestant\"\u001b[39m), Eq, \u001b[33mVarExpr\u001b[39m(\u001b[32m\"prize\"\u001b[39m)),\n",
       "    \u001b[33mAssgn\u001b[39m(\u001b[32m\"ultimate\"\u001b[39m, \u001b[33mVarExpr\u001b[39m(\u001b[32m\"contestant\"\u001b[39m)),\n",
       "    \u001b[33mSeq\u001b[39m(\n",
       "      \u001b[33mIf\u001b[39m(\n",
       "        \u001b[33mBExpr\u001b[39m(\n",
       "          \u001b[33mBExpr\u001b[39m(\n",
       "            \u001b[33mBExpr\u001b[39m(\u001b[33mVarExpr\u001b[39m(\u001b[32m\"prize\"\u001b[39m), Eq, \u001b[33mValExpr\u001b[39m(\u001b[33mValI\u001b[39m(\u001b[32m1\u001b[39m))),\n",
       "            And,\n",
       "            \u001b[33mBExpr\u001b[39m(\u001b[33mVarExpr\u001b[39m(\u001b[32m\"contestant\"\u001b[39m), Eq, \u001b[33mValExpr\u001b[39m(\u001b[33mValI\u001b[39m(\u001b[32m2\u001b[39m)))\n",
       "          ),\n",
       "          Or,\n",
       "          \u001b[33mBExpr\u001b[39m(\n",
       "            \u001b[33mBExpr\u001b[39m(\u001b[33mVarExpr\u001b[39m(\u001b[32m\"prize\"\u001b[39m), Eq, \u001b[33mValExpr\u001b[39m(\u001b[33mValI\u001b[39m(\u001b[32m2\u001b[39m))),\n",
       "            And,\n",
       "            \u001b[33mBExpr\u001b[39m(\u001b[33mVarExpr\u001b[39m(\u001b[32m\"contestant\"\u001b[39m), Eq, \u001b[33mValExpr\u001b[39m(\u001b[33mValI\u001b[39m(\u001b[32m1\u001b[39m)))\n",
       "          )\n",
       "        ),\n",
       "        \u001b[33mAssgn\u001b[39m(\u001b[32m\"open\"\u001b[39m, \u001b[33mValExpr\u001b[39m(\u001b[33mValI\u001b[39m(\u001b[32m3\u001b[39m))),\n",
       "        \u001b[33mIf\u001b[39m(\n",
       "..."
      ]
     },
     "execution_count": 17,
     "metadata": {},
     "output_type": "execute_result"
    }
   ],
   "source": [
    "val example3 = (\n",
    "  ((prize := A) <> (prize := B) <> (prize := C))\n",
    "    \n",
    "  ((contestant := A) <0.33> ((contestant := B) <0.5> (contestant := C)))\n",
    "    \n",
    "  (IF (contestant === prize)\n",
    "      (ultimate := contestant)\n",
    "  \n",
    "   ELSE ( \n",
    "    (IF ((prize === A && contestant === B) || (prize === B && contestant === A))\n",
    "      (open := C)\n",
    "    ELSE (IF ((prize === B && contestant === C) || (prize === C && contestant === B))\n",
    "      (open := A)\n",
    "    ELSE // (IF ((prize === A && contestant === C) || (prize === C && contestant === A))\n",
    "      (open := B))))\n",
    "  \n",
    "    (IF (clever) \n",
    "     (IF ((open === A && contestant === B) || (open === B && contestant === A))\n",
    "        (ultimate := C)\n",
    "      ELSE (IF ((open === B && contestant === C) || (open === C && contestant === B))\n",
    "        (ultimate := A)\n",
    "      ELSE // (IF (open === A && contestant === C) || (open === C && contestant === A)\n",
    "        (ultimate := B)))\n",
    "    ELSE \n",
    "      (ultimate := contestant))\n",
    "  )\n",
    ")"
   ]
  },
  {
   "cell_type": "markdown",
   "metadata": {},
   "source": [
    "After running the program the `ultimate`  variable should contain the final move of the contestant, and the expected value of `ultimate == conte"
   ]
  },
  {
   "cell_type": "code",
   "execution_count": 12,
   "metadata": {},
   "outputs": [
    {
     "data": {
      "text/plain": [
       "\u001b[36mres11\u001b[39m: \u001b[32mBExpr\u001b[39m = \u001b[33mBExpr\u001b[39m(\u001b[33mVarExpr\u001b[39m(\u001b[32m\"ala\"\u001b[39m), Eq, \u001b[33mVarExpr\u001b[39m(\u001b[32m\"bela\"\u001b[39m))"
      ]
     },
     "execution_count": 12,
     "metadata": {},
     "output_type": "execute_result"
    }
   ],
   "source": [
    "NameOps (\"ala\").=== (\"bela\")\n"
   ]
  },
  {
   "cell_type": "code",
   "execution_count": null,
   "metadata": {},
   "outputs": [],
   "source": []
  }
 ],
 "metadata": {
  "kernelspec": {
   "display_name": "Scala",
   "language": "scala",
   "name": "scala"
  },
  "language_info": {
   "codemirror_mode": "text/x-scala",
   "file_extension": ".sc",
   "mimetype": "text/x-scala",
   "name": "scala",
   "nbconvert_exporter": "script",
   "version": "2.13.3"
  }
 },
 "nbformat": 4,
 "nbformat_minor": 4
}
